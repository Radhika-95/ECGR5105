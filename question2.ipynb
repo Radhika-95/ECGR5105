{
  "nbformat": 4,
  "nbformat_minor": 0,
  "metadata": {
    "colab": {
      "provenance": []
    },
    "kernelspec": {
      "name": "python3",
      "display_name": "Python 3"
    },
    "language_info": {
      "name": "python"
    }
  },
  "cells": [
    {
      "cell_type": "code",
      "execution_count": 87,
      "metadata": {
        "id": "-msbncQ16Iz3"
      },
      "outputs": [],
      "source": [
        "import numpy as np \n",
        "import pandas as pd \n",
        "import matplotlib.pyplot as plt "
      ]
    },
    {
      "cell_type": "code",
      "source": [
        "df = pd.read_csv('/content/sample_data/D3.csv')\n",
        "print(df)\n",
        "df.head() # To get first n rows from the dataset default value of n is 5 \n",
        "M=len(df) \n",
        "M"
      ],
      "metadata": {
        "colab": {
          "base_uri": "https://localhost:8080/"
        },
        "id": "bJ6METoj6UdT",
        "outputId": "b48bf428-ee35-4f68-b496-e0e475fb5963"
      },
      "execution_count": 88,
      "outputs": [
        {
          "output_type": "stream",
          "name": "stdout",
          "text": [
            "          X1        X2        X3         Y\n",
            "0   0.000000  3.440000  0.440000  4.387545\n",
            "1   0.040404  0.134949  0.888485  2.679650\n",
            "2   0.080808  0.829899  1.336970  2.968490\n",
            "3   0.121212  1.524848  1.785455  3.254065\n",
            "4   0.161616  2.219798  2.233939  3.536375\n",
            "..       ...       ...       ...       ...\n",
            "95  3.838384  1.460202  3.046061 -4.440595\n",
            "96  3.878788  2.155152  3.494545 -4.458663\n",
            "97  3.919192  2.850101  3.943030 -4.479995\n",
            "98  3.959596  3.545051  0.391515 -3.304593\n",
            "99  4.000000  0.240000  0.840000 -5.332455\n",
            "\n",
            "[100 rows x 4 columns]\n"
          ]
        },
        {
          "output_type": "execute_result",
          "data": {
            "text/plain": [
              "100"
            ]
          },
          "metadata": {},
          "execution_count": 88
        }
      ]
    },
    {
      "cell_type": "code",
      "source": [
        "X = df.values[:,0:3]  # get input values from first column \n",
        "y = df.values[:, 3]  # get output values from second column \n",
        "m = len(y) # Number of training examples \n",
        "print('X = ', X[: 5]) # Show only first 5 records \n",
        "print('y = ', y[: 5]) \n",
        "print('m = ', m) "
      ],
      "metadata": {
        "colab": {
          "base_uri": "https://localhost:8080/"
        },
        "id": "x8YTKocu6Zt_",
        "outputId": "59dc474e-23b4-47fc-ef6a-aa1acf8203db"
      },
      "execution_count": 89,
      "outputs": [
        {
          "output_type": "stream",
          "name": "stdout",
          "text": [
            "X =  [[0.         3.44       0.44      ]\n",
            " [0.04040404 0.1349495  0.88848485]\n",
            " [0.08080808 0.82989899 1.3369697 ]\n",
            " [0.12121212 1.52484848 1.78545454]\n",
            " [0.16161616 2.21979798 2.23393939]]\n",
            "y =  [4.38754501 2.6796499  2.96848981 3.25406475 3.53637472]\n",
            "m =  100\n"
          ]
        }
      ]
    },
    {
      "cell_type": "markdown",
      "source": [],
      "metadata": {
        "id": "9pGC0cIv-DRB"
      }
    },
    {
      "cell_type": "code",
      "source": [
        "X = df.values[:, 0:3]  # get input values from first column \n",
        "y = df.values[:, 3]  # get output values from second column \n",
        "m = len(y) # Number of training examples \n",
        "print('X = ', X[:]) # Show only first 5 records \n",
        "print('y = ', y[:]) \n",
        "print('m = ', m) "
      ],
      "metadata": {
        "colab": {
          "base_uri": "https://localhost:8080/"
        },
        "id": "yjKRh_Ez8iit",
        "outputId": "6b81eb6f-328b-4f65-8e2a-a8e4cb971979"
      },
      "execution_count": 90,
      "outputs": [
        {
          "output_type": "stream",
          "name": "stdout",
          "text": [
            "X =  [[0.         3.44       0.44      ]\n",
            " [0.04040404 0.1349495  0.88848485]\n",
            " [0.08080808 0.82989899 1.3369697 ]\n",
            " [0.12121212 1.52484848 1.78545454]\n",
            " [0.16161616 2.21979798 2.23393939]\n",
            " [0.2020202  2.91474747 2.68242424]\n",
            " [0.24242424 3.60969697 3.13090909]\n",
            " [0.28282828 0.30464646 3.57939394]\n",
            " [0.32323232 0.99959596 0.02787879]\n",
            " [0.36363636 1.69454546 0.47636364]\n",
            " [0.4040404  2.38949495 0.92484849]\n",
            " [0.44444444 3.08444444 1.37333333]\n",
            " [0.48484848 3.77939394 1.82181818]\n",
            " [0.52525252 0.47434343 2.27030303]\n",
            " [0.56565657 1.16929293 2.71878788]\n",
            " [0.60606061 1.86424242 3.16727273]\n",
            " [0.64646465 2.55919192 3.61575758]\n",
            " [0.68686869 3.25414141 0.06424242]\n",
            " [0.72727273 3.94909091 0.51272727]\n",
            " [0.76767677 0.6440404  0.96121212]\n",
            " [0.80808081 1.3389899  1.40969697]\n",
            " [0.84848485 2.03393939 1.85818182]\n",
            " [0.88888889 2.72888889 2.30666667]\n",
            " [0.92929293 3.42383838 2.75515152]\n",
            " [0.96969697 0.11878788 3.20363636]\n",
            " [1.01010101 0.81373737 3.65212121]\n",
            " [1.05050505 1.50868687 0.10060606]\n",
            " [1.09090909 2.20363636 0.54909091]\n",
            " [1.13131313 2.89858586 0.99757576]\n",
            " [1.17171717 3.59353535 1.44606061]\n",
            " [1.21212121 0.28848485 1.89454546]\n",
            " [1.25252525 0.98343434 2.3430303 ]\n",
            " [1.29292929 1.67838384 2.79151515]\n",
            " [1.33333333 2.37333333 3.24      ]\n",
            " [1.37373737 3.06828283 3.68848485]\n",
            " [1.41414141 3.76323232 0.1369697 ]\n",
            " [1.45454546 0.45818182 0.58545455]\n",
            " [1.49494949 1.15313131 1.03393939]\n",
            " [1.53535354 1.84808081 1.48242424]\n",
            " [1.57575758 2.5430303  1.93090909]\n",
            " [1.61616162 3.2379798  2.37939394]\n",
            " [1.65656566 3.93292929 2.82787879]\n",
            " [1.6969697  0.62787879 3.27636364]\n",
            " [1.73737374 1.32282828 3.72484848]\n",
            " [1.77777778 2.01777778 0.17333333]\n",
            " [1.81818182 2.71272727 0.62181818]\n",
            " [1.85858586 3.40767677 1.07030303]\n",
            " [1.8989899  0.10262626 1.51878788]\n",
            " [1.93939394 0.79757576 1.96727273]\n",
            " [1.97979798 1.49252525 2.41575758]\n",
            " [2.02020202 2.18747475 2.86424242]\n",
            " [2.06060606 2.88242424 3.31272727]\n",
            " [2.1010101  3.57737374 3.76121212]\n",
            " [2.14141414 0.27232323 0.20969697]\n",
            " [2.18181818 0.96727273 0.65818182]\n",
            " [2.22222222 1.66222222 1.10666667]\n",
            " [2.26262626 2.35717172 1.55515151]\n",
            " [2.3030303  3.05212121 2.00363636]\n",
            " [2.34343434 3.74707071 2.45212121]\n",
            " [2.38383838 0.4420202  2.90060606]\n",
            " [2.42424242 1.1369697  3.34909091]\n",
            " [2.46464646 1.83191919 3.79757576]\n",
            " [2.5050505  2.52686869 0.24606061]\n",
            " [2.54545455 3.22181818 0.69454545]\n",
            " [2.58585859 3.91676768 1.1430303 ]\n",
            " [2.62626263 0.61171717 1.59151515]\n",
            " [2.66666667 1.30666667 2.04      ]\n",
            " [2.70707071 2.00161616 2.48848485]\n",
            " [2.74747475 2.69656566 2.9369697 ]\n",
            " [2.78787879 3.39151515 3.38545454]\n",
            " [2.82828283 0.08646465 3.83393939]\n",
            " [2.86868687 0.78141414 0.28242424]\n",
            " [2.90909091 1.47636364 0.73090909]\n",
            " [2.94949495 2.17131313 1.17939394]\n",
            " [2.98989899 2.86626263 1.62787879]\n",
            " [3.03030303 3.56121212 2.07636364]\n",
            " [3.07070707 0.25616162 2.52484849]\n",
            " [3.11111111 0.95111111 2.97333333]\n",
            " [3.15151515 1.64606061 3.42181818]\n",
            " [3.19191919 2.3410101  3.87030303]\n",
            " [3.23232323 3.0359596  0.31878788]\n",
            " [3.27272727 3.73090909 0.76727273]\n",
            " [3.31313131 0.42585859 1.21575758]\n",
            " [3.35353535 1.12080808 1.66424242]\n",
            " [3.39393939 1.81575758 2.11272727]\n",
            " [3.43434343 2.51070707 2.56121212]\n",
            " [3.47474748 3.20565657 3.00969697]\n",
            " [3.51515151 3.90060606 3.45818182]\n",
            " [3.55555556 0.59555556 3.90666667]\n",
            " [3.5959596  1.29050505 0.35515151]\n",
            " [3.63636364 1.98545455 0.80363636]\n",
            " [3.67676768 2.68040404 1.25212121]\n",
            " [3.71717172 3.37535353 1.70060606]\n",
            " [3.75757576 0.07030303 2.14909091]\n",
            " [3.7979798  0.76525252 2.59757576]\n",
            " [3.83838384 1.46020202 3.04606061]\n",
            " [3.87878788 2.15515152 3.49454545]\n",
            " [3.91919192 2.85010101 3.9430303 ]\n",
            " [3.95959596 3.5450505  0.39151515]\n",
            " [4.         0.24       0.84      ]]\n",
            "y =  [ 4.38754501  2.6796499   2.96848981  3.25406475  3.53637472  3.81541972\n",
            "  4.09119974  2.36371479  3.83296487  4.09894997  4.3616701   4.62112526\n",
            "  4.87731544  3.13024065  3.37990089  3.62629616  3.86942645  5.30929177\n",
            "  5.54589212  3.77922749  4.00929789  4.23610332  4.45964378  4.67991926\n",
            "  2.89692977  3.1106753   4.52115587  4.72837146  4.93232208  5.13300772\n",
            "  3.33042839  3.52458409  3.71547481  3.90310057  4.08746135  5.46855715\n",
            "  3.64638799  3.82095385  3.99225473  4.16029065  4.32506159  4.48656756\n",
            "  2.64480856  2.79978458  4.15149563  4.29994171  4.44512281  2.58703894\n",
            "  2.7256901   2.86107628  2.99319749  3.12205374  3.247645    2.56997129\n",
            "  2.68903261  2.80482896  2.91736034  3.02662674  3.13262817  1.23536462\n",
            "  1.3348361   1.43104261  2.72398415  2.81366071  2.9000723   0.98321892\n",
            "  1.06310057  1.13971724  1.21306894  1.28315566 -0.65002258  0.6135342\n",
            "  0.673826    0.73085284  0.7846147   0.83511159 -1.1176565  -1.07368956\n",
            " -1.03298759 -0.99555059  0.23862143  0.26952848 -1.70282944 -1.67845234\n",
            " -1.6573402  -1.63949305 -1.62491086 -1.61359365 -3.60554141 -2.40075414\n",
            " -2.39923185 -2.40097453 -2.40598218 -4.4142548  -4.4257924  -4.44059497\n",
            " -4.45866252 -4.47999504 -3.30459253 -5.33245499]\n",
            "m =  100\n"
          ]
        }
      ]
    },
    {
      "cell_type": "code",
      "source": [
        "#Lets create a matrix with single column of ones \n",
        "X_0 = np.ones((m, 1)) \n",
        "X_0[:5] "
      ],
      "metadata": {
        "colab": {
          "base_uri": "https://localhost:8080/"
        },
        "id": "XoD41rZY9nxF",
        "outputId": "3f7028ec-bd34-4d05-f7a0-ee8363be6d74"
      },
      "execution_count": 91,
      "outputs": [
        {
          "output_type": "execute_result",
          "data": {
            "text/plain": [
              "array([[1.],\n",
              "       [1.],\n",
              "       [1.],\n",
              "       [1.],\n",
              "       [1.]])"
            ]
          },
          "metadata": {},
          "execution_count": 91
        }
      ]
    },
    {
      "cell_type": "code",
      "source": [
        "# Using reshape function convert X 1D array to 2D array of dimension 100X1 \n",
        "X_1 = X.reshape(m, 3) \n",
        "X_1[:10] "
      ],
      "metadata": {
        "colab": {
          "base_uri": "https://localhost:8080/"
        },
        "id": "JrdpIplOS9T8",
        "outputId": "84d178eb-904e-4dc3-a8d2-cf7fac20e2c8"
      },
      "execution_count": 92,
      "outputs": [
        {
          "output_type": "execute_result",
          "data": {
            "text/plain": [
              "array([[0.        , 3.44      , 0.44      ],\n",
              "       [0.04040404, 0.1349495 , 0.88848485],\n",
              "       [0.08080808, 0.82989899, 1.3369697 ],\n",
              "       [0.12121212, 1.52484848, 1.78545454],\n",
              "       [0.16161616, 2.21979798, 2.23393939],\n",
              "       [0.2020202 , 2.91474747, 2.68242424],\n",
              "       [0.24242424, 3.60969697, 3.13090909],\n",
              "       [0.28282828, 0.30464646, 3.57939394],\n",
              "       [0.32323232, 0.99959596, 0.02787879],\n",
              "       [0.36363636, 1.69454546, 0.47636364]])"
            ]
          },
          "metadata": {},
          "execution_count": 92
        }
      ]
    },
    {
      "cell_type": "code",
      "source": [
        "# Lets use hstack() function from numpy to stack X_0 and X_1 horizontally (i.e. column \n",
        "# This will be our final X matrix (feature matrix) \n",
        "X = np.hstack((X_0, X_1)) \n",
        "X[:5] "
      ],
      "metadata": {
        "colab": {
          "base_uri": "https://localhost:8080/"
        },
        "id": "C4JYsW3MTBNb",
        "outputId": "261d78ff-f1db-4ebe-cc0e-30e7faf92aca"
      },
      "execution_count": 93,
      "outputs": [
        {
          "output_type": "execute_result",
          "data": {
            "text/plain": [
              "array([[1.        , 0.        , 3.44      , 0.44      ],\n",
              "       [1.        , 0.04040404, 0.1349495 , 0.88848485],\n",
              "       [1.        , 0.08080808, 0.82989899, 1.3369697 ],\n",
              "       [1.        , 0.12121212, 1.52484848, 1.78545454],\n",
              "       [1.        , 0.16161616, 2.21979798, 2.23393939]])"
            ]
          },
          "metadata": {},
          "execution_count": 93
        }
      ]
    },
    {
      "cell_type": "code",
      "source": [
        "theta = np.zeros(4) \n",
        "theta "
      ],
      "metadata": {
        "colab": {
          "base_uri": "https://localhost:8080/"
        },
        "id": "zsQmUzHOTTkT",
        "outputId": "b8bcff10-a248-4fea-b111-b1d190bd8f04"
      },
      "execution_count": 94,
      "outputs": [
        {
          "output_type": "execute_result",
          "data": {
            "text/plain": [
              "array([0., 0., 0., 0.])"
            ]
          },
          "metadata": {},
          "execution_count": 94
        }
      ]
    },
    {
      "cell_type": "code",
      "source": [
        "def compute_cost(X, y, theta): \n",
        "  \"\"\" \n",
        "  Compute cost for linear regression. \n",
        " \n",
        "  Input Parameters \n",
        "  ---------------- \n",
        "  X : 2D array where each row represent the training example and each column represent \n",
        "      m= number of training examples \n",
        "      n= number of features (including X_0 column of ones) \n",
        "  y : 1D array of labels/target value for each traing example. dimension(1 x m) \n",
        " \n",
        "  theta : 1D array of fitting parameters or weights. Dimension (1 x n) \n",
        " \n",
        "  Output Parameters \n",
        "  ----------------- \n",
        "  J : Scalar value. \n",
        "  \"\"\" \n",
        "  predictions = X.dot(theta) \n",
        "  errors = np.subtract(predictions, y) \n",
        "  sqrErrors = np.square(errors) \n",
        "  J = 1 / (2 * m) * np.sum(sqrErrors) \n",
        " \n",
        "  return J \n",
        "  "
      ],
      "metadata": {
        "id": "JBRcPFTbTddp"
      },
      "execution_count": 95,
      "outputs": []
    },
    {
      "cell_type": "code",
      "source": [
        "# Lets compute the cost for theta values \n",
        "cost = compute_cost(X, y, theta) \n",
        "print('The cost for given values of theta_0 and theta_1 =', cost) "
      ],
      "metadata": {
        "colab": {
          "base_uri": "https://localhost:8080/"
        },
        "id": "dhLxjJCSTfZg",
        "outputId": "3da53d6a-c350-4f09-abf2-a18179433796"
      },
      "execution_count": 96,
      "outputs": [
        {
          "output_type": "stream",
          "name": "stdout",
          "text": [
            "The cost for given values of theta_0 and theta_1 = 5.524438459196242\n"
          ]
        }
      ]
    },
    {
      "cell_type": "code",
      "source": [
        "def gradient_descent(X, y, theta, alpha, iterations): \n",
        "  \"\"\" \n",
        "  Compute cost for linear regression. \n",
        " \n",
        "  Input Parameters \n",
        "  ---------------- \n",
        "  X : 2D array where each row represent the training example and each column represent \n",
        "      m= number of training examples \n",
        "      n= number of features (including X_0 column of ones) \n",
        "  y : 1D array of labels/target value for each traing example. dimension(m x 1) \n",
        "  theta : 1D array of fitting parameters or weights. Dimension (1 x n) \n",
        "  alpha : Learning rate. Scalar value \n",
        "  iterations: No of iterations. Scalar value.  \n",
        " \n",
        "  Output Parameters \n",
        "  ----------------- \n",
        "  theta : Final Value. 1D array of fitting parameters or weights. Dimension (1 x n) \n",
        "  cost_history: Conatins value of cost for each iteration. 1D array. Dimansion(m x 1)\n",
        "  ef gradient_descent(X, y, theta, alpha, iterations): \n",
        "  \"\"\" \n",
        "  cost_history = np.zeros(iterations) \n",
        " \n",
        "  for i in range(iterations): \n",
        "    predictions = X.dot(theta) \n",
        "    errors = np.subtract(predictions, y) \n",
        "    sum_delta = (alpha / m) * X.transpose().dot(errors); \n",
        "    theta = theta - sum_delta; \n",
        "    cost_history[i] = compute_cost(X, y, theta)   \n",
        " \n",
        "  return theta, cost_history "
      ],
      "metadata": {
        "id": "T0__SfIdTmy-"
      },
      "execution_count": 97,
      "outputs": []
    },
    {
      "cell_type": "code",
      "source": [
        "theta = [0., 0.,0.,0.] \n",
        "iterations = 1500; \n",
        "alpha = 0.01;"
      ],
      "metadata": {
        "id": "5DlFaGb-Utxi"
      },
      "execution_count": 98,
      "outputs": []
    },
    {
      "cell_type": "code",
      "source": [
        "theta, cost_history = gradient_descent(X, y, theta, alpha, iterations) \n",
        "print('Final value of theta =', theta) \n",
        "print('cost_history =', cost_history) "
      ],
      "metadata": {
        "colab": {
          "base_uri": "https://localhost:8080/"
        },
        "id": "Rwllst0vU3Za",
        "outputId": "ebbec7a8-3e81-4206-b335-9b12e0e2305a"
      },
      "execution_count": 99,
      "outputs": [
        {
          "output_type": "stream",
          "name": "stdout",
          "text": [
            "Final value of theta = [ 4.15118728 -1.8394291   0.72473856 -0.09513266]\n",
            "cost_history = [5.21542243 4.97171977 4.7765543  ... 0.81079843 0.81065429 0.81051044]\n"
          ]
        }
      ]
    },
    {
      "cell_type": "code",
      "source": [
        "plt.plot(range(1, iterations + 1),cost_history, color='blue') \n",
        "plt.rcParams[\"figure.figsize\"] = (10,6) \n",
        "plt.grid() \n",
        "plt.xlabel('Number of iterations') \n",
        "plt.ylabel('Cost (J)') \n",
        "plt.title('Convergence of gradient descent') "
      ],
      "metadata": {
        "colab": {
          "base_uri": "https://localhost:8080/",
          "height": 422
        },
        "id": "aaHlSCvuU7Pr",
        "outputId": "91448df0-15d0-4a7c-b688-9e160a2c1672"
      },
      "execution_count": 100,
      "outputs": [
        {
          "output_type": "execute_result",
          "data": {
            "text/plain": [
              "Text(0.5, 1.0, 'Convergence of gradient descent')"
            ]
          },
          "metadata": {},
          "execution_count": 100
        },
        {
          "output_type": "display_data",
          "data": {
            "text/plain": [
              "<Figure size 720x432 with 1 Axes>"
            ],
            "image/png": "[encoded data removed]"
          },
          "metadata": {
            "needs_background": "light"
          }
        }
      ]
    },
    {
      "cell_type": "code",
      "source": [
        "#predicting values for Y \n",
        "sum_1=theta[1]*(1) + theta[2]*(1) + theta[3]*(1) + theta[0]\n",
        "print(sum_1)\n",
        "\n",
        "sum_2=theta[1]*(2) + theta[2]*(0) + theta[3]*(4) + theta[0]\n",
        "print(sum_2)\n",
        "\n",
        "sum_3=theta[1]*(3) + theta[2]*(2) + theta[3]*(1) + theta[0]\n",
        "print(sum_1)"
      ],
      "metadata": {
        "colab": {
          "base_uri": "https://localhost:8080/"
        },
        "id": "diba2Hdz4fFJ",
        "outputId": "546c94e8-bda8-4206-ff01-4674f0fd0553"
      },
      "execution_count": 104,
      "outputs": [
        {
          "output_type": "stream",
          "name": "stdout",
          "text": [
            "2.9413640816645295\n",
            "0.09179843075891547\n",
            "2.9413640816645295\n"
          ]
        }
      ]
    }
  ]
}