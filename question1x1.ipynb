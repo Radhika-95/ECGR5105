{
  "nbformat": 4,
  "nbformat_minor": 0,
  "metadata": {
    "colab": {
      "provenance": []
    },
    "kernelspec": {
      "name": "python3",
      "display_name": "Python 3"
    },
    "language_info": {
      "name": "python"
    }
  },
  "cells": [
    {
      "cell_type": "code",
      "execution_count": 45,
      "metadata": {
        "id": "sZqz08sIXs7E"
      },
      "outputs": [],
      "source": [
        "import numpy as np \n",
        "import pandas as pd \n",
        "import matplotlib.pyplot as plt "
      ]
    },
    {
      "cell_type": "code",
      "source": [
        "df = pd.read_csv('/content/sample_data/D3.csv')\n",
        "print(df)\n",
        "df.head() # To get first n rows from the dataset default value of n is 5 \n",
        "M=len(df) \n",
        "M"
      ],
      "metadata": {
        "colab": {
          "base_uri": "https://localhost:8080/"
        },
        "id": "gmbG1Qd8X35l",
        "outputId": "1ae8d15d-6736-4945-ed18-62f00ca288be"
      },
      "execution_count": 46,
      "outputs": [
        {
          "output_type": "stream",
          "name": "stdout",
          "text": [
            "          X1        X2        X3         Y\n",
            "0   0.000000  3.440000  0.440000  4.387545\n",
            "1   0.040404  0.134949  0.888485  2.679650\n",
            "2   0.080808  0.829899  1.336970  2.968490\n",
            "3   0.121212  1.524848  1.785455  3.254065\n",
            "4   0.161616  2.219798  2.233939  3.536375\n",
            "..       ...       ...       ...       ...\n",
            "95  3.838384  1.460202  3.046061 -4.440595\n",
            "96  3.878788  2.155152  3.494545 -4.458663\n",
            "97  3.919192  2.850101  3.943030 -4.479995\n",
            "98  3.959596  3.545051  0.391515 -3.304593\n",
            "99  4.000000  0.240000  0.840000 -5.332455\n",
            "\n",
            "[100 rows x 4 columns]\n"
          ]
        },
        {
          "output_type": "execute_result",
          "data": {
            "text/plain": [
              "100"
            ]
          },
          "metadata": {},
          "execution_count": 46
        }
      ]
    },
    {
      "cell_type": "code",
      "source": [
        "X1 = df.values[:, 0]  # get input values from X1 column\n",
        "y = df.values[:, 3]  # get output values from Y column\n",
        "m = len(y) # Number of training examples \n",
        "print('X1 = ', X1[: 5]) # Show only first 5 records \n",
        "print('y = ', y[: 5]) \n"
      ],
      "metadata": {
        "colab": {
          "base_uri": "https://localhost:8080/"
        },
        "id": "Bsz7BpeAYEY-",
        "outputId": "c74ce7eb-9912-4b66-a648-fb677b65857f"
      },
      "execution_count": 47,
      "outputs": [
        {
          "output_type": "stream",
          "name": "stdout",
          "text": [
            "X1 =  [0.         0.04040404 0.08080808 0.12121212 0.16161616]\n",
            "y =  [4.38754501 2.6796499  2.96848981 3.25406475 3.53637472]\n"
          ]
        }
      ]
    },
    {
      "cell_type": "code",
      "source": [
        "plt.scatter(X1,y, color='red',marker= '+') \n",
        "plt.grid() \n",
        "plt.rcParams[\"figure.figsize\"] = (10,6) \n",
        "plt.xlabel('Population of City in 10,000s') \n",
        "plt.ylabel('Profit in $10,000s') \n",
        "plt.title('Scatter plot of training data for X1') "
      ],
      "metadata": {
        "colab": {
          "base_uri": "https://localhost:8080/",
          "height": 422
        },
        "id": "8SOIHXehYe_n",
        "outputId": "3726dd6e-91d6-4355-c4f0-f384f3cf745f"
      },
      "execution_count": 48,
      "outputs": [
        {
          "output_type": "execute_result",
          "data": {
            "text/plain": [
              "Text(0.5, 1.0, 'Scatter plot of training data for X1')"
            ]
          },
          "metadata": {},
          "execution_count": 48
        },
        {
          "output_type": "display_data",
          "data": {
            "text/plain": [
              "<Figure size 720x432 with 1 Axes>"
            ],
            "image/png": "[encoded data removed]"
          },
          "metadata": {
            "needs_background": "light"
          }
        }
      ]
    },
    {
      "cell_type": "code",
      "source": [
        "#Lets create a matrix with single column of ones \n",
        "X_0 = np.ones((m, 1)) \n",
        "X_0[:5]"
      ],
      "metadata": {
        "colab": {
          "base_uri": "https://localhost:8080/"
        },
        "id": "76p0U6L3YhqP",
        "outputId": "dddc7d4b-53a6-4ae6-c2f8-ddf718d22a02"
      },
      "execution_count": 49,
      "outputs": [
        {
          "output_type": "execute_result",
          "data": {
            "text/plain": [
              "array([[1.],\n",
              "       [1.],\n",
              "       [1.],\n",
              "       [1.],\n",
              "       [1.]])"
            ]
          },
          "metadata": {},
          "execution_count": 49
        }
      ]
    },
    {
      "cell_type": "code",
      "source": [
        "# Using reshape function convert X 1D array to 2D array of dimension 97x1 \n",
        "X_1 = X1.reshape(m, 1) \n",
        "X_1[:10] \n",
        "print('X_1:', X_1)\n"
      ],
      "metadata": {
        "colab": {
          "base_uri": "https://localhost:8080/"
        },
        "id": "aRJFGh06YnlV",
        "outputId": "295a6415-32a4-4e6e-a627-3804814c6d11"
      },
      "execution_count": 50,
      "outputs": [
        {
          "output_type": "stream",
          "name": "stdout",
          "text": [
            "X_1: [[0.        ]\n",
            " [0.04040404]\n",
            " [0.08080808]\n",
            " [0.12121212]\n",
            " [0.16161616]\n",
            " [0.2020202 ]\n",
            " [0.24242424]\n",
            " [0.28282828]\n",
            " [0.32323232]\n",
            " [0.36363636]\n",
            " [0.4040404 ]\n",
            " [0.44444444]\n",
            " [0.48484848]\n",
            " [0.52525252]\n",
            " [0.56565657]\n",
            " [0.60606061]\n",
            " [0.64646465]\n",
            " [0.68686869]\n",
            " [0.72727273]\n",
            " [0.76767677]\n",
            " [0.80808081]\n",
            " [0.84848485]\n",
            " [0.88888889]\n",
            " [0.92929293]\n",
            " [0.96969697]\n",
            " [1.01010101]\n",
            " [1.05050505]\n",
            " [1.09090909]\n",
            " [1.13131313]\n",
            " [1.17171717]\n",
            " [1.21212121]\n",
            " [1.25252525]\n",
            " [1.29292929]\n",
            " [1.33333333]\n",
            " [1.37373737]\n",
            " [1.41414141]\n",
            " [1.45454546]\n",
            " [1.49494949]\n",
            " [1.53535354]\n",
            " [1.57575758]\n",
            " [1.61616162]\n",
            " [1.65656566]\n",
            " [1.6969697 ]\n",
            " [1.73737374]\n",
            " [1.77777778]\n",
            " [1.81818182]\n",
            " [1.85858586]\n",
            " [1.8989899 ]\n",
            " [1.93939394]\n",
            " [1.97979798]\n",
            " [2.02020202]\n",
            " [2.06060606]\n",
            " [2.1010101 ]\n",
            " [2.14141414]\n",
            " [2.18181818]\n",
            " [2.22222222]\n",
            " [2.26262626]\n",
            " [2.3030303 ]\n",
            " [2.34343434]\n",
            " [2.38383838]\n",
            " [2.42424242]\n",
            " [2.46464646]\n",
            " [2.5050505 ]\n",
            " [2.54545455]\n",
            " [2.58585859]\n",
            " [2.62626263]\n",
            " [2.66666667]\n",
            " [2.70707071]\n",
            " [2.74747475]\n",
            " [2.78787879]\n",
            " [2.82828283]\n",
            " [2.86868687]\n",
            " [2.90909091]\n",
            " [2.94949495]\n",
            " [2.98989899]\n",
            " [3.03030303]\n",
            " [3.07070707]\n",
            " [3.11111111]\n",
            " [3.15151515]\n",
            " [3.19191919]\n",
            " [3.23232323]\n",
            " [3.27272727]\n",
            " [3.31313131]\n",
            " [3.35353535]\n",
            " [3.39393939]\n",
            " [3.43434343]\n",
            " [3.47474748]\n",
            " [3.51515151]\n",
            " [3.55555556]\n",
            " [3.5959596 ]\n",
            " [3.63636364]\n",
            " [3.67676768]\n",
            " [3.71717172]\n",
            " [3.75757576]\n",
            " [3.7979798 ]\n",
            " [3.83838384]\n",
            " [3.87878788]\n",
            " [3.91919192]\n",
            " [3.95959596]\n",
            " [4.        ]]\n"
          ]
        }
      ]
    },
    {
      "cell_type": "code",
      "source": [
        "# Lets use hstack() function from numpy to stack X_0 and X_1 horizontally (i.e. column \n",
        "# This will be our final X matrix (feature matrix) \n",
        "X01 = np.hstack((X_0, X_1)) \n",
        "X01[:5] \n"
      ],
      "metadata": {
        "colab": {
          "base_uri": "https://localhost:8080/"
        },
        "id": "GCxGfUfKYybs",
        "outputId": "fa3377a2-6e35-42b7-ebb8-1bd3c7ef2232"
      },
      "execution_count": 51,
      "outputs": [
        {
          "output_type": "execute_result",
          "data": {
            "text/plain": [
              "array([[1.        , 0.        ],\n",
              "       [1.        , 0.04040404],\n",
              "       [1.        , 0.08080808],\n",
              "       [1.        , 0.12121212],\n",
              "       [1.        , 0.16161616]])"
            ]
          },
          "metadata": {},
          "execution_count": 51
        }
      ]
    },
    {
      "cell_type": "code",
      "source": [
        "theta = np.zeros(2) \n",
        "theta "
      ],
      "metadata": {
        "colab": {
          "base_uri": "https://localhost:8080/"
        },
        "id": "9NFum2tDY2CZ",
        "outputId": "15833a7a-787d-4b7e-d212-2b62fec9e406"
      },
      "execution_count": 52,
      "outputs": [
        {
          "output_type": "execute_result",
          "data": {
            "text/plain": [
              "array([0., 0.])"
            ]
          },
          "metadata": {},
          "execution_count": 52
        }
      ]
    },
    {
      "cell_type": "code",
      "source": [
        "def compute_cost(X, y, theta): \n",
        "  \"\"\" \n",
        "  Compute cost for linear regression. \n",
        " \n",
        "  Input Parameters \n",
        "  ---------------- \n",
        "  X : 2D array where each row represent the training example and each column represent \n",
        "      m= number of training examples \n",
        "      n= number of features (including X_0 column of ones) \n",
        "  y : 1D array of labels/target value for each traing example. dimension(1 x m) \n",
        " \n",
        "  theta : 1D array of fitting parameters or weights. Dimension (1 x n) \n",
        " \n",
        "  Output Parameters \n",
        "  ----------------- \n",
        "  J : Scalar value. \n",
        "  \"\"\" \n",
        "  predictions = X.dot(theta) \n",
        "  errors = np.subtract(predictions, y) \n",
        "  sqrErrors = np.square(errors) \n",
        "  J = 1 / (2 * m) * np.sum(sqrErrors) \n",
        " \n",
        "  return J "
      ],
      "metadata": {
        "id": "yjHzPij3Y6n0"
      },
      "execution_count": 53,
      "outputs": []
    },
    {
      "cell_type": "code",
      "source": [
        "# Lets compute the cost for theta values \n",
        "cost01 = compute_cost(X01, y, theta) \n",
        "print('The cost for given values of theta_0 and theta_1 =', cost01) \n"
      ],
      "metadata": {
        "colab": {
          "base_uri": "https://localhost:8080/"
        },
        "id": "y2ggq57eZE9U",
        "outputId": "09617ca1-5611-4d75-c43d-d90387cb0acf"
      },
      "execution_count": 54,
      "outputs": [
        {
          "output_type": "stream",
          "name": "stdout",
          "text": [
            "The cost for given values of theta_0 and theta_1 = 5.524438459196242\n"
          ]
        }
      ]
    },
    {
      "cell_type": "code",
      "source": [
        "def gradient_descent(X, y, theta, alpha, iterations): \n",
        "  \"\"\" \n",
        "  Compute cost for linear regression. \n",
        " \n",
        "  Input Parameters \n",
        "  ---------------- \n",
        "  X : 2D array where each row represent the training example and each column represent \n",
        "      m= number of training examples \n",
        "      n= number of features (including X_0 column of ones) \n",
        "  y : 1D array of labels/target value for each traing example. dimension(m x 1) \n",
        "  theta : 1D array of fitting parameters or weights. Dimension (1 x n) \n",
        "  alpha : Learning rate. Scalar value \n",
        "  iterations: No of iterations. Scalar value.  \n",
        " \n",
        "  Output Parameters \n",
        "  ----------------- \n",
        "  theta : Final Value. 1D array of fitting parameters or weights. Dimension (1 x n) \n",
        "  cost_history: Conatins value of cost for each iteration. 1D array. Dimansion(m x 1)\n",
        "   \"\"\" \n",
        "  cost_history = np.zeros(iterations) \n",
        " \n",
        "  for i in range(iterations): \n",
        "    predictions = X.dot(theta) \n",
        "    errors = np.subtract(predictions, y) \n",
        "    sum_delta = (alpha / m) * X.transpose().dot(errors); \n",
        "    theta = theta - sum_delta; \n",
        "    cost_history[i] = compute_cost(X, y, theta)   \n",
        " \n",
        "  return theta, cost_history "
      ],
      "metadata": {
        "id": "1gUFbS3B349q"
      },
      "execution_count": 55,
      "outputs": []
    },
    {
      "cell_type": "code",
      "source": [
        "theta = [0., 0.] \n",
        "iterations = 1500; \n",
        "alpha = 0.01; \n",
        "theta, cost_history01 = gradient_descent(X01, y, theta, alpha, iterations) \n",
        "print('Final value of theta =', theta) \n",
        "print('cost_history =', cost_history01)"
      ],
      "metadata": {
        "colab": {
          "base_uri": "https://localhost:8080/"
        },
        "id": "JYlD-SL44ALW",
        "outputId": "e8a1dcfc-9cf6-4f64-e7bc-f01471e82c5b"
      },
      "execution_count": 56,
      "outputs": [
        {
          "output_type": "stream",
          "name": "stdout",
          "text": [
            "Final value of theta = [ 5.71850653 -1.9568206 ]\n",
            "cost_history = [5.48226715 5.44290965 5.40604087 ... 0.99063932 0.99061433 0.99058944]\n"
          ]
        }
      ]
    },
    {
      "cell_type": "code",
      "source": [
        "# Since X is list of list (feature matrix) lets take values of column of index 1 only \n",
        "plt.scatter(X01[:,1], y, color='red', marker= '+', label= 'Training Data') \n",
        "plt.plot(X01[:,1],X01.dot(theta), color='green', label='Linear Regression') \n",
        " \n",
        "plt.rcParams[\"figure.figsize\"] = (10,6) \n",
        "plt.grid() \n",
        "plt.xlabel('Population of City in 10,000s') \n",
        "plt.ylabel('Profit in $10,000s') \n",
        "plt.title('Linear Regression Fit') \n",
        "plt.legend() "
      ],
      "metadata": {
        "colab": {
          "base_uri": "https://localhost:8080/",
          "height": 422
        },
        "id": "rnRpR6I24Fm8",
        "outputId": "935ae748-7462-4ffe-b1e1-a773ecba6650"
      },
      "execution_count": 57,
      "outputs": [
        {
          "output_type": "execute_result",
          "data": {
            "text/plain": [
              "<matplotlib.legend.Legend at 0x7f79ddfe7c10>"
            ]
          },
          "metadata": {},
          "execution_count": 57
        },
        {
          "output_type": "display_data",
          "data": {
            "text/plain": [
              "<Figure size 720x432 with 1 Axes>"
            ],
            "image/png": "[encoded data removed]"
          },
          "metadata": {
            "needs_background": "light"
          }
        }
      ]
    },
    {
      "cell_type": "code",
      "source": [
        "plt.plot(range(1, iterations + 1),cost_history01, color='blue') \n",
        "plt.rcParams[\"figure.figsize\"] = (10,6) \n",
        "plt.grid() \n",
        "plt.xlabel('Number of iterations') \n",
        "plt.ylabel('Cost (J)') \n",
        "plt.title('Convergence of gradient descent') "
      ],
      "metadata": {
        "colab": {
          "base_uri": "https://localhost:8080/",
          "height": 422
        },
        "id": "zRs0yICv4LJT",
        "outputId": "58050ada-7c15-4f10-e8df-63465a810978"
      },
      "execution_count": 58,
      "outputs": [
        {
          "output_type": "execute_result",
          "data": {
            "text/plain": [
              "Text(0.5, 1.0, 'Convergence of gradient descent')"
            ]
          },
          "metadata": {},
          "execution_count": 58
        },
        {
          "output_type": "display_data",
          "data": {
            "text/plain": [
              "<Figure size 720x432 with 1 Axes>"
            ],
            "image/png": "[encoded data removed]"
          },
          "metadata": {
            "needs_background": "light"
          }
        }
      ]
    }
  ]
}