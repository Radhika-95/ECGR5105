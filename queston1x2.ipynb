{
  "nbformat": 4,
  "nbformat_minor": 0,
  "metadata": {
    "colab": {
      "provenance": []
    },
    "kernelspec": {
      "name": "python3",
      "display_name": "Python 3"
    },
    "language_info": {
      "name": "python"
    }
  },
  "cells": [
    {
      "cell_type": "code",
      "execution_count": null,
      "metadata": {
        "id": "LfY6kb24GTak"
      },
      "outputs": [],
      "source": [
        "import numpy as np \n",
        "import pandas as pd \n",
        "import matplotlib.pyplot as plt "
      ]
    },
    {
      "cell_type": "code",
      "source": [
        "df = pd.read_csv('/content/sample_data/D3.csv')\n",
        "print(df)\n",
        "df.head() # To get first n rows from the dataset default value of n is 5 \n",
        "M=len(df) \n",
        "M"
      ],
      "metadata": {
        "colab": {
          "base_uri": "https://localhost:8080/"
        },
        "id": "H64kBIFJGb4s",
        "outputId": "6eb6bcec-378b-4b83-d80c-88d4ecf7c45d"
      },
      "execution_count": null,
      "outputs": [
        {
          "output_type": "stream",
          "name": "stdout",
          "text": [
            "          X1        X2        X3         Y\n",
            "0   0.000000  3.440000  0.440000  4.387545\n",
            "1   0.040404  0.134949  0.888485  2.679650\n",
            "2   0.080808  0.829899  1.336970  2.968490\n",
            "3   0.121212  1.524848  1.785455  3.254065\n",
            "4   0.161616  2.219798  2.233939  3.536375\n",
            "..       ...       ...       ...       ...\n",
            "95  3.838384  1.460202  3.046061 -4.440595\n",
            "96  3.878788  2.155152  3.494545 -4.458663\n",
            "97  3.919192  2.850101  3.943030 -4.479995\n",
            "98  3.959596  3.545051  0.391515 -3.304593\n",
            "99  4.000000  0.240000  0.840000 -5.332455\n",
            "\n",
            "[100 rows x 4 columns]\n"
          ]
        },
        {
          "output_type": "execute_result",
          "data": {
            "text/plain": [
              "100"
            ]
          },
          "metadata": {},
          "execution_count": 59
        }
      ]
    },
    {
      "cell_type": "code",
      "source": [
        "X2 = df.values[:,1] # get input values from X2 column\n",
        "y = df.values[:, 3]  # get output values from Y column\n",
        "m = len(y) # Number of training examples \n",
        "print('X2 = ', X2[: 5]) # Show only first 5 records \n",
        "print('y = ', y[: 5]) \n"
      ],
      "metadata": {
        "colab": {
          "base_uri": "https://localhost:8080/"
        },
        "id": "uyk7EZ-IGeaD",
        "outputId": "44377b87-73ce-4b11-d51e-dbfd5612d43f"
      },
      "execution_count": 86,
      "outputs": [
        {
          "output_type": "stream",
          "name": "stdout",
          "text": [
            "X2 =  [3.44       0.1349495  0.82989899 1.52484848 2.21979798]\n",
            "y =  [4.38754501 2.6796499  2.96848981 3.25406475 3.53637472]\n"
          ]
        }
      ]
    },
    {
      "cell_type": "code",
      "source": [
        "plt.scatter(X2,y, color='red',marker= '+') \n",
        "plt.grid() \n",
        "plt.rcParams[\"figure.figsize\"] = (10,6) \n",
        "plt.xlabel('Population of City in 10,000s') \n",
        "plt.ylabel('Profit in $10,000s') \n",
        "plt.title('Scatter plot of training data for X2') "
      ],
      "metadata": {
        "colab": {
          "base_uri": "https://localhost:8080/",
          "height": 421
        },
        "id": "JEzDyM1rGx0Z",
        "outputId": "a19c1bd8-0908-4e0d-983b-b51c17be129f"
      },
      "execution_count": null,
      "outputs": [
        {
          "output_type": "execute_result",
          "data": {
            "text/plain": [
              "Text(0.5, 1.0, 'Scatter plot of training data for X2')"
            ]
          },
          "metadata": {},
          "execution_count": 61
        },
        {
          "output_type": "display_data",
          "data": {
            "text/plain": [
              "<Figure size 720x432 with 1 Axes>"
            ],
            "image/png": "[encoded data removed]"
          },
          "metadata": {
            "needs_background": "light"
          }
        }
      ]
    },
    {
      "cell_type": "code",
      "source": [
        "#Lets create a matrix with single column of ones \n",
        "X_0 = np.ones((m, 1)) \n",
        "X_0[:5] \n",
        "X_2 = X2.reshape(m,1)\n",
        "X_2[:10]\n",
        "print('X_2:',X_2)"
      ],
      "metadata": {
        "colab": {
          "base_uri": "https://localhost:8080/"
        },
        "id": "pK6fpwNmHRmy",
        "outputId": "c45f14ac-c5f5-4263-8497-94835aca20ac"
      },
      "execution_count": null,
      "outputs": [
        {
          "output_type": "stream",
          "name": "stdout",
          "text": [
            "X_2: [[3.44      ]\n",
            " [0.1349495 ]\n",
            " [0.82989899]\n",
            " [1.52484848]\n",
            " [2.21979798]\n",
            " [2.91474747]\n",
            " [3.60969697]\n",
            " [0.30464646]\n",
            " [0.99959596]\n",
            " [1.69454546]\n",
            " [2.38949495]\n",
            " [3.08444444]\n",
            " [3.77939394]\n",
            " [0.47434343]\n",
            " [1.16929293]\n",
            " [1.86424242]\n",
            " [2.55919192]\n",
            " [3.25414141]\n",
            " [3.94909091]\n",
            " [0.6440404 ]\n",
            " [1.3389899 ]\n",
            " [2.03393939]\n",
            " [2.72888889]\n",
            " [3.42383838]\n",
            " [0.11878788]\n",
            " [0.81373737]\n",
            " [1.50868687]\n",
            " [2.20363636]\n",
            " [2.89858586]\n",
            " [3.59353535]\n",
            " [0.28848485]\n",
            " [0.98343434]\n",
            " [1.67838384]\n",
            " [2.37333333]\n",
            " [3.06828283]\n",
            " [3.76323232]\n",
            " [0.45818182]\n",
            " [1.15313131]\n",
            " [1.84808081]\n",
            " [2.5430303 ]\n",
            " [3.2379798 ]\n",
            " [3.93292929]\n",
            " [0.62787879]\n",
            " [1.32282828]\n",
            " [2.01777778]\n",
            " [2.71272727]\n",
            " [3.40767677]\n",
            " [0.10262626]\n",
            " [0.79757576]\n",
            " [1.49252525]\n",
            " [2.18747475]\n",
            " [2.88242424]\n",
            " [3.57737374]\n",
            " [0.27232323]\n",
            " [0.96727273]\n",
            " [1.66222222]\n",
            " [2.35717172]\n",
            " [3.05212121]\n",
            " [3.74707071]\n",
            " [0.4420202 ]\n",
            " [1.1369697 ]\n",
            " [1.83191919]\n",
            " [2.52686869]\n",
            " [3.22181818]\n",
            " [3.91676768]\n",
            " [0.61171717]\n",
            " [1.30666667]\n",
            " [2.00161616]\n",
            " [2.69656566]\n",
            " [3.39151515]\n",
            " [0.08646465]\n",
            " [0.78141414]\n",
            " [1.47636364]\n",
            " [2.17131313]\n",
            " [2.86626263]\n",
            " [3.56121212]\n",
            " [0.25616162]\n",
            " [0.95111111]\n",
            " [1.64606061]\n",
            " [2.3410101 ]\n",
            " [3.0359596 ]\n",
            " [3.73090909]\n",
            " [0.42585859]\n",
            " [1.12080808]\n",
            " [1.81575758]\n",
            " [2.51070707]\n",
            " [3.20565657]\n",
            " [3.90060606]\n",
            " [0.59555556]\n",
            " [1.29050505]\n",
            " [1.98545455]\n",
            " [2.68040404]\n",
            " [3.37535353]\n",
            " [0.07030303]\n",
            " [0.76525252]\n",
            " [1.46020202]\n",
            " [2.15515152]\n",
            " [2.85010101]\n",
            " [3.5450505 ]\n",
            " [0.24      ]]\n"
          ]
        }
      ]
    },
    {
      "cell_type": "code",
      "source": [
        "# Lets use hstack() function from numpy to stack X_0 and X_2 horizontally (i.e. column \n",
        "# This will be our final X matrix (feature matrix) \n",
        "X02 = np.hstack((X_0, X_2)) \n",
        "X02[:5] "
      ],
      "metadata": {
        "colab": {
          "base_uri": "https://localhost:8080/"
        },
        "id": "Cc3-gf01Hdl3",
        "outputId": "ead4b404-f025-4899-bbd2-ca8f2abdef20"
      },
      "execution_count": null,
      "outputs": [
        {
          "output_type": "execute_result",
          "data": {
            "text/plain": [
              "array([[1.        , 3.44      ],\n",
              "       [1.        , 0.1349495 ],\n",
              "       [1.        , 0.82989899],\n",
              "       [1.        , 1.52484848],\n",
              "       [1.        , 2.21979798]])"
            ]
          },
          "metadata": {},
          "execution_count": 63
        }
      ]
    },
    {
      "cell_type": "code",
      "source": [
        "theta = np.zeros(2) \n",
        "theta "
      ],
      "metadata": {
        "colab": {
          "base_uri": "https://localhost:8080/"
        },
        "id": "LDjUFimhHtTw",
        "outputId": "e742c679-b732-4a00-8d2d-7edb17984596"
      },
      "execution_count": null,
      "outputs": [
        {
          "output_type": "execute_result",
          "data": {
            "text/plain": [
              "array([0., 0.])"
            ]
          },
          "metadata": {},
          "execution_count": 64
        }
      ]
    },
    {
      "cell_type": "code",
      "source": [
        "def compute_cost(X, y, theta): \n",
        "  \"\"\" \n",
        "  Compute cost for linear regression. \n",
        " \n",
        "  Input Parameters \n",
        "  ---------------- \n",
        "  X : 2D array where each row represent the training example and each column represent \n",
        "      m= number of training examples \n",
        "      n= number of features (including X_0 column of ones) \n",
        "  y : 1D array of labels/target value for each traing example. dimension(1 x m) \n",
        " \n",
        "  theta : 1D array of fitting parameters or weights. Dimension (1 x n) \n",
        " \n",
        "  Output Parameters \n",
        "  ----------------- \n",
        "  J : Scalar value. \n",
        "  \"\"\" \n",
        "  predictions = X.dot(theta) \n",
        "  errors = np.subtract(predictions, y) \n",
        "  sqrErrors = np.square(errors) \n",
        "  J = 1 / (2 * m) * np.sum(sqrErrors) \n",
        " \n",
        "  return J "
      ],
      "metadata": {
        "id": "orSsAplhHy01"
      },
      "execution_count": null,
      "outputs": []
    },
    {
      "cell_type": "code",
      "source": [
        "# Lets compute the cost for theta values \n",
        "cost02 = compute_cost(X02, y, theta) \n",
        "print('The cost for given values of theta_0 and theta_1 =', cost02) "
      ],
      "metadata": {
        "colab": {
          "base_uri": "https://localhost:8080/"
        },
        "id": "uFcAqWJ0H6Vh",
        "outputId": "715de977-e995-4e18-c75c-592699107385"
      },
      "execution_count": null,
      "outputs": [
        {
          "output_type": "stream",
          "name": "stdout",
          "text": [
            "The cost for given values of theta_0 and theta_1 = 5.524438459196242\n"
          ]
        }
      ]
    },
    {
      "cell_type": "code",
      "source": [
        "def gradient_descent(X, y, theta, alpha, iterations): \n",
        "  \"\"\" \n",
        "  Compute cost for linear regression. \n",
        " \n",
        "  Input Parameters \n",
        "  ---------------- \n",
        "  X : 2D array where each row represent the training example and each column represent \n",
        "      m= number of training examples \n",
        "      n= number of features (including X_0 column of ones) \n",
        "  y : 1D array of labels/target value for each traing example. dimension(m x 1) \n",
        "  theta : 1D array of fitting parameters or weights. Dimension (1 x n) \n",
        "  alpha : Learning rate. Scalar value \n",
        "  iterations: No of iterations. Scalar value.  \n",
        " \n",
        "  Output Parameters \n",
        "  ----------------- \n",
        "  theta : Final Value. 1D array of fitting parameters or weights. Dimension (1 x n) \n",
        "  cost_history: Conatins value of cost for each iteration. 1D array. Dimansion(m x 1)\n",
        "   \"\"\" \n",
        "  cost_history = np.zeros(iterations) \n",
        " \n",
        "  for i in range(iterations): \n",
        "    predictions = X.dot(theta) \n",
        "    errors = np.subtract(predictions, y) \n",
        "    sum_delta = (alpha / m) * X.transpose().dot(errors); \n",
        "    theta = theta - sum_delta; \n",
        "    cost_history[i] = compute_cost(X, y, theta)   \n",
        " \n",
        "  return theta, cost_history "
      ],
      "metadata": {
        "id": "HRt0nMiIJe6s"
      },
      "execution_count": null,
      "outputs": []
    },
    {
      "cell_type": "code",
      "source": [
        "theta = [0., 0.] \n",
        "iterations = 1500; \n",
        "alpha = 0.001; "
      ],
      "metadata": {
        "id": "hWsKiUa7Jkcm"
      },
      "execution_count": null,
      "outputs": []
    },
    {
      "cell_type": "code",
      "source": [
        "theta, cost_history02 = gradient_descent(X02, y, theta, alpha, iterations) \n",
        "print('Final value of theta =', theta) \n",
        "print('cost_history =', cost_history02)"
      ],
      "metadata": {
        "colab": {
          "base_uri": "https://localhost:8080/"
        },
        "id": "2-ef4tjcJlwZ",
        "outputId": "54004d4b-5876-493c-e63b-456734e6c57b"
      },
      "execution_count": null,
      "outputs": [
        {
          "output_type": "stream",
          "name": "stdout",
          "text": [
            "Final value of theta = [0.41275557 0.68335862]\n",
            "cost_history = [5.50118218 5.47821041 5.45551967 ... 3.61271034 3.61270443 3.61269852]\n"
          ]
        }
      ]
    },
    {
      "cell_type": "code",
      "source": [
        "# Since X is list of list (feature matrix) lets take values of column of index 1 only \n",
        "plt.scatter(X02[:,1], y, color='red', marker= '+', label= 'Training Data') \n",
        "plt.plot(X02[:,1],X02.dot(theta), color='green', label='Linear Regression') \n",
        " \n",
        "plt.rcParams[\"figure.figsize\"] = (10,6)\n",
        "plt.grid() \n",
        "plt.xlabel('Population of City in 10,000s') \n",
        "plt.ylabel('Profit in $10,000s') \n",
        "plt.title('Linear Regression Fit') \n",
        "plt.legend() "
      ],
      "metadata": {
        "colab": {
          "base_uri": "https://localhost:8080/",
          "height": 421
        },
        "id": "pMF8D748Jxt7",
        "outputId": "0e71b8af-30b3-418a-d50d-978b2ba5802e"
      },
      "execution_count": null,
      "outputs": [
        {
          "output_type": "execute_result",
          "data": {
            "text/plain": [
              "<matplotlib.legend.Legend at 0x7f4f0ee648e0>"
            ]
          },
          "metadata": {},
          "execution_count": 70
        },
        {
          "output_type": "display_data",
          "data": {
            "text/plain": [
              "<Figure size 720x432 with 1 Axes>"
            ],
            "image/png": "[encoded data removed]"
          },
          "metadata": {
            "needs_background": "light"
          }
        }
      ]
    },
    {
      "cell_type": "code",
      "source": [
        "plt.plot(range(1, iterations + 1),cost_history02, color='blue') \n",
        "plt.rcParams[\"figure.figsize\"] = (10,6) \n",
        "plt.grid() \n",
        "plt.xlabel('Number of iterations') \n",
        "plt.ylabel('Cost (J)') \n",
        "plt.title('Convergence of gradient descent') "
      ],
      "metadata": {
        "colab": {
          "base_uri": "https://localhost:8080/",
          "height": 421
        },
        "id": "LR76Q0q7J4me",
        "outputId": "6469c6e6-8f89-4d1e-c9ec-6930e021ccb7"
      },
      "execution_count": null,
      "outputs": [
        {
          "output_type": "execute_result",
          "data": {
            "text/plain": [
              "Text(0.5, 1.0, 'Convergence of gradient descent')"
            ]
          },
          "metadata": {},
          "execution_count": 71
        },
        {
          "output_type": "display_data",
          "data": {
            "text/plain": [
              "<Figure size 720x432 with 1 Axes>"
            ],
            "image/png": "[encoded data removed]"
          },
          "metadata": {
            "needs_background": "light"
          }
        }
      ]
    }
  ]
}