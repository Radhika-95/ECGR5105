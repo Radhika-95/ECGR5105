{
  "nbformat": 4,
  "nbformat_minor": 0,
  "metadata": {
    "colab": {
      "provenance": []
    },
    "kernelspec": {
      "name": "python3",
      "display_name": "Python 3"
    },
    "language_info": {
      "name": "python"
    }
  },
  "cells": [
    {
      "cell_type": "code",
      "execution_count": 86,
      "metadata": {
        "id": "Ty3NGiZrMdML"
      },
      "outputs": [],
      "source": []
    },
    {
      "cell_type": "code",
      "execution_count": 87,
      "metadata": {
        "id": "LfY6kb24GTak"
      },
      "outputs": [],
      "source": [
        "import numpy as np \n",
        "import pandas as pd \n",
        "import matplotlib.pyplot as plt "
      ]
    },
    {
      "cell_type": "code",
      "source": [
        "df = pd.read_csv('/content/sample_data/D3.csv')\n",
        "print(df)\n",
        "df.head() # To get first n rows from the dataset default value of n is 5 \n",
        "M=len(df) \n",
        "M"
      ],
      "metadata": {
        "colab": {
          "base_uri": "https://localhost:8080/"
        },
        "id": "H64kBIFJGb4s",
        "outputId": "a1b87e37-37ea-4147-f608-88d45891ab84"
      },
      "execution_count": 88,
      "outputs": [
        {
          "output_type": "stream",
          "name": "stdout",
          "text": [
            "          X1        X2        X3         Y\n",
            "0   0.000000  3.440000  0.440000  4.387545\n",
            "1   0.040404  0.134949  0.888485  2.679650\n",
            "2   0.080808  0.829899  1.336970  2.968490\n",
            "3   0.121212  1.524848  1.785455  3.254065\n",
            "4   0.161616  2.219798  2.233939  3.536375\n",
            "..       ...       ...       ...       ...\n",
            "95  3.838384  1.460202  3.046061 -4.440595\n",
            "96  3.878788  2.155152  3.494545 -4.458663\n",
            "97  3.919192  2.850101  3.943030 -4.479995\n",
            "98  3.959596  3.545051  0.391515 -3.304593\n",
            "99  4.000000  0.240000  0.840000 -5.332455\n",
            "\n",
            "[100 rows x 4 columns]\n"
          ]
        },
        {
          "output_type": "execute_result",
          "data": {
            "text/plain": [
              "100"
            ]
          },
          "metadata": {},
          "execution_count": 88
        }
      ]
    },
    {
      "cell_type": "code",
      "source": [
        "X3 = df.values[:,2] # get input values from X2 column\n",
        "y = df.values[:, 3]  # get output values from Y column\n",
        "m = len(y) # Number of training examples \n",
        "print('X3 = ', X3[: 5]) # Show only first 5 records \n",
        "print('y = ', y[: 5]) \n"
      ],
      "metadata": {
        "colab": {
          "base_uri": "https://localhost:8080/"
        },
        "id": "uyk7EZ-IGeaD",
        "outputId": "24244242-3885-49d6-dd68-f7ab7505e393"
      },
      "execution_count": 89,
      "outputs": [
        {
          "output_type": "stream",
          "name": "stdout",
          "text": [
            "X3 =  [0.44       0.88848485 1.3369697  1.78545454 2.23393939]\n",
            "y =  [4.38754501 2.6796499  2.96848981 3.25406475 3.53637472]\n"
          ]
        }
      ]
    },
    {
      "cell_type": "code",
      "source": [
        "plt.scatter(X3,y, color='red',marker= '+') \n",
        "plt.grid() \n",
        "plt.rcParams[\"figure.figsize\"] = (10,6) \n",
        "plt.xlabel('Population of City in 10,000s') \n",
        "plt.ylabel('Profit in $10,000s') \n",
        "plt.title('Scatter plot of training data for X3') "
      ],
      "metadata": {
        "colab": {
          "base_uri": "https://localhost:8080/",
          "height": 422
        },
        "id": "JEzDyM1rGx0Z",
        "outputId": "79bcdd88-f12a-4a23-a053-f2ffb5fa7b3a"
      },
      "execution_count": 90,
      "outputs": [
        {
          "output_type": "execute_result",
          "data": {
            "text/plain": [
              "Text(0.5, 1.0, 'Scatter plot of training data for X3')"
            ]
          },
          "metadata": {},
          "execution_count": 90
        },
        {
          "output_type": "display_data",
          "data": {
            "text/plain": [
              "<Figure size 720x432 with 1 Axes>"
            ],
            "image/png": "[encoded data removed]"
          },
          "metadata": {
            "needs_background": "light"
          }
        }
      ]
    },
    {
      "cell_type": "code",
      "source": [
        "#Lets create a matrix with single column of ones \n",
        "X_0 = np.ones((m, 1)) \n",
        "X_0[:5] \n",
        "X_3 = X3.reshape(m,1)\n",
        "X_3[:10]\n",
        "print('X_3:',X_3)"
      ],
      "metadata": {
        "colab": {
          "base_uri": "https://localhost:8080/"
        },
        "id": "pK6fpwNmHRmy",
        "outputId": "a09ea08a-3e1e-4da1-d739-266649c1a03a"
      },
      "execution_count": 91,
      "outputs": [
        {
          "output_type": "stream",
          "name": "stdout",
          "text": [
            "X_3: [[0.44      ]\n",
            " [0.88848485]\n",
            " [1.3369697 ]\n",
            " [1.78545454]\n",
            " [2.23393939]\n",
            " [2.68242424]\n",
            " [3.13090909]\n",
            " [3.57939394]\n",
            " [0.02787879]\n",
            " [0.47636364]\n",
            " [0.92484849]\n",
            " [1.37333333]\n",
            " [1.82181818]\n",
            " [2.27030303]\n",
            " [2.71878788]\n",
            " [3.16727273]\n",
            " [3.61575758]\n",
            " [0.06424242]\n",
            " [0.51272727]\n",
            " [0.96121212]\n",
            " [1.40969697]\n",
            " [1.85818182]\n",
            " [2.30666667]\n",
            " [2.75515152]\n",
            " [3.20363636]\n",
            " [3.65212121]\n",
            " [0.10060606]\n",
            " [0.54909091]\n",
            " [0.99757576]\n",
            " [1.44606061]\n",
            " [1.89454546]\n",
            " [2.3430303 ]\n",
            " [2.79151515]\n",
            " [3.24      ]\n",
            " [3.68848485]\n",
            " [0.1369697 ]\n",
            " [0.58545455]\n",
            " [1.03393939]\n",
            " [1.48242424]\n",
            " [1.93090909]\n",
            " [2.37939394]\n",
            " [2.82787879]\n",
            " [3.27636364]\n",
            " [3.72484848]\n",
            " [0.17333333]\n",
            " [0.62181818]\n",
            " [1.07030303]\n",
            " [1.51878788]\n",
            " [1.96727273]\n",
            " [2.41575758]\n",
            " [2.86424242]\n",
            " [3.31272727]\n",
            " [3.76121212]\n",
            " [0.20969697]\n",
            " [0.65818182]\n",
            " [1.10666667]\n",
            " [1.55515151]\n",
            " [2.00363636]\n",
            " [2.45212121]\n",
            " [2.90060606]\n",
            " [3.34909091]\n",
            " [3.79757576]\n",
            " [0.24606061]\n",
            " [0.69454545]\n",
            " [1.1430303 ]\n",
            " [1.59151515]\n",
            " [2.04      ]\n",
            " [2.48848485]\n",
            " [2.9369697 ]\n",
            " [3.38545454]\n",
            " [3.83393939]\n",
            " [0.28242424]\n",
            " [0.73090909]\n",
            " [1.17939394]\n",
            " [1.62787879]\n",
            " [2.07636364]\n",
            " [2.52484849]\n",
            " [2.97333333]\n",
            " [3.42181818]\n",
            " [3.87030303]\n",
            " [0.31878788]\n",
            " [0.76727273]\n",
            " [1.21575758]\n",
            " [1.66424242]\n",
            " [2.11272727]\n",
            " [2.56121212]\n",
            " [3.00969697]\n",
            " [3.45818182]\n",
            " [3.90666667]\n",
            " [0.35515151]\n",
            " [0.80363636]\n",
            " [1.25212121]\n",
            " [1.70060606]\n",
            " [2.14909091]\n",
            " [2.59757576]\n",
            " [3.04606061]\n",
            " [3.49454545]\n",
            " [3.9430303 ]\n",
            " [0.39151515]\n",
            " [0.84      ]]\n"
          ]
        }
      ]
    },
    {
      "cell_type": "code",
      "source": [
        "# Lets use hstack() function from numpy to stack X_0 and X_2 horizontally (i.e. column \n",
        "# This will be our final X matrix (feature matrix) \n",
        "X03 = np.hstack((X_0, X_3)) \n",
        "X03[:5] "
      ],
      "metadata": {
        "colab": {
          "base_uri": "https://localhost:8080/"
        },
        "id": "Cc3-gf01Hdl3",
        "outputId": "85aecdc7-d99d-4f84-9f62-656f6efde155"
      },
      "execution_count": 92,
      "outputs": [
        {
          "output_type": "execute_result",
          "data": {
            "text/plain": [
              "array([[1.        , 0.44      ],\n",
              "       [1.        , 0.88848485],\n",
              "       [1.        , 1.3369697 ],\n",
              "       [1.        , 1.78545454],\n",
              "       [1.        , 2.23393939]])"
            ]
          },
          "metadata": {},
          "execution_count": 92
        }
      ]
    },
    {
      "cell_type": "code",
      "source": [
        "theta = np.zeros(2) \n",
        "theta "
      ],
      "metadata": {
        "colab": {
          "base_uri": "https://localhost:8080/"
        },
        "id": "LDjUFimhHtTw",
        "outputId": "2727a9ac-ab25-4bc2-ef3e-0c05fa8ca750"
      },
      "execution_count": 93,
      "outputs": [
        {
          "output_type": "execute_result",
          "data": {
            "text/plain": [
              "array([0., 0.])"
            ]
          },
          "metadata": {},
          "execution_count": 93
        }
      ]
    },
    {
      "cell_type": "code",
      "source": [
        "def compute_cost(X, y, theta): \n",
        "  \"\"\" \n",
        "  Compute cost for linear regression. \n",
        " \n",
        "  Input Parameters \n",
        "  ---------------- \n",
        "  X : 2D array where each row represent the training example and each column represent \n",
        "      m= number of training examples \n",
        "      n= number of features (including X_0 column of ones) \n",
        "  y : 1D array of labels/target value for each traing example. dimension(1 x m) \n",
        " \n",
        "  theta : 1D array of fitting parameters or weights. Dimension (1 x n) \n",
        " \n",
        "  Output Parameters \n",
        "  ----------------- \n",
        "  J : Scalar value. \n",
        "  \"\"\" \n",
        "  predictions = X.dot(theta) \n",
        "  errors = np.subtract(predictions, y) \n",
        "  sqrErrors = np.square(errors) \n",
        "  J = 1 / (2 * m) * np.sum(sqrErrors) \n",
        " \n",
        "  return J "
      ],
      "metadata": {
        "id": "orSsAplhHy01"
      },
      "execution_count": 94,
      "outputs": []
    },
    {
      "cell_type": "code",
      "source": [
        "# Lets compute the cost for theta values \n",
        "cost03 = compute_cost(X03, y, theta) \n",
        "print('The cost for given values of theta_0 and theta_1 =', cost03) "
      ],
      "metadata": {
        "colab": {
          "base_uri": "https://localhost:8080/"
        },
        "id": "uFcAqWJ0H6Vh",
        "outputId": "c61ca2d2-9e50-4efa-c1ca-586747478e97"
      },
      "execution_count": 95,
      "outputs": [
        {
          "output_type": "stream",
          "name": "stdout",
          "text": [
            "The cost for given values of theta_0 and theta_1 = 5.524438459196242\n"
          ]
        }
      ]
    },
    {
      "cell_type": "code",
      "source": [
        "def gradient_descent(X, y, theta, alpha, iterations): \n",
        "  \"\"\" \n",
        "  Compute cost for linear regression. \n",
        " \n",
        "  Input Parameters \n",
        "  ---------------- \n",
        "  X : 2D array where each row represent the training example and each column represent \n",
        "      m= number of training examples \n",
        "      n= number of features (including X_0 column of ones) \n",
        "  y : 1D array of labels/target value for each traing example. dimension(m x 1) \n",
        "  theta : 1D array of fitting parameters or weights. Dimension (1 x n) \n",
        "  alpha : Learning rate. Scalar value \n",
        "  iterations: No of iterations. Scalar value.  \n",
        " \n",
        "  Output Parameters \n",
        "  ----------------- \n",
        "  theta : Final Value. 1D array of fitting parameters or weights. Dimension (1 x n) \n",
        "  cost_history: Conatins value of cost for each iteration. 1D array. Dimansion(m x 1)\n",
        "   \"\"\" \n",
        "  cost_history = np.zeros(iterations) \n",
        " \n",
        "  for i in range(iterations): \n",
        "    predictions = X.dot(theta) \n",
        "    errors = np.subtract(predictions, y) \n",
        "    sum_delta = (alpha / m) * X.transpose().dot(errors); \n",
        "    theta = theta - sum_delta; \n",
        "    cost_history[i] = compute_cost(X, y, theta)   \n",
        " \n",
        "  return theta, cost_history "
      ],
      "metadata": {
        "id": "HRt0nMiIJe6s"
      },
      "execution_count": 96,
      "outputs": []
    },
    {
      "cell_type": "code",
      "source": [
        "theta = [0., 0.] \n",
        "iterations = 1500; \n",
        "alpha = 0.01; "
      ],
      "metadata": {
        "id": "hWsKiUa7Jkcm"
      },
      "execution_count": 97,
      "outputs": []
    },
    {
      "cell_type": "code",
      "source": [
        "theta, cost_history03 = gradient_descent(X03, y, theta, alpha, iterations) \n",
        "print('Final value of theta =', theta) \n",
        "print('cost_history =', cost_history03)"
      ],
      "metadata": {
        "colab": {
          "base_uri": "https://localhost:8080/"
        },
        "id": "2-ef4tjcJlwZ",
        "outputId": "249a73df-d9a9-4daa-b33f-4812031722c9"
      },
      "execution_count": 98,
      "outputs": [
        {
          "output_type": "stream",
          "name": "stdout",
          "text": [
            "Final value of theta = [ 2.78048129 -0.48451631]\n",
            "cost_history = [5.40768785 5.30397076 5.21178297 ... 3.63053597 3.6305311  3.63052625]\n"
          ]
        }
      ]
    },
    {
      "cell_type": "code",
      "source": [
        "# Since X is list of list (feature matrix) lets take values of column of index 1 only \n",
        "plt.scatter(X03[:,1], y, color='red', marker= '+', label= 'Training Data') \n",
        "plt.plot(X03[:,1],X03.dot(theta), color='green', label='Linear Regression') \n",
        " \n",
        "plt.rcParams[\"figure.figsize\"] = (10,6)\n",
        "plt.grid() \n",
        "plt.xlabel('Population of City in 10,000s') \n",
        "plt.ylabel('Profit in $10,000s') \n",
        "plt.title('Linear Regression Fit') \n",
        "plt.legend() "
      ],
      "metadata": {
        "colab": {
          "base_uri": "https://localhost:8080/",
          "height": 422
        },
        "id": "pMF8D748Jxt7",
        "outputId": "d5ae2e7f-ff2c-4f74-fef5-e92c5e0fc85b"
      },
      "execution_count": 99,
      "outputs": [
        {
          "output_type": "execute_result",
          "data": {
            "text/plain": [
              "<matplotlib.legend.Legend at 0x7f60987dcac0>"
            ]
          },
          "metadata": {},
          "execution_count": 99
        },
        {
          "output_type": "display_data",
          "data": {
            "text/plain": [
              "<Figure size 720x432 with 1 Axes>"
            ],
            "image/png": "[encoded data removed]"
          },
          "metadata": {
            "needs_background": "light"
          }
        }
      ]
    },
    {
      "cell_type": "code",
      "source": [
        "plt.plot(range(1, iterations + 1),cost_history03, color='blue') \n",
        "plt.rcParams[\"figure.figsize\"] = (10,6) \n",
        "plt.grid() \n",
        "plt.xlabel('Number of iterations') \n",
        "plt.ylabel('Cost (J)') \n",
        "plt.title('Convergence of gradient descent') "
      ],
      "metadata": {
        "colab": {
          "base_uri": "https://localhost:8080/",
          "height": 422
        },
        "id": "LR76Q0q7J4me",
        "outputId": "c61c0e86-ba3c-4589-96fd-e25856290935"
      },
      "execution_count": 100,
      "outputs": [
        {
          "output_type": "execute_result",
          "data": {
            "text/plain": [
              "Text(0.5, 1.0, 'Convergence of gradient descent')"
            ]
          },
          "metadata": {},
          "execution_count": 100
        },
        {
          "output_type": "display_data",
          "data": {
            "text/plain": [
              "<Figure size 720x432 with 1 Axes>"
            ],
            "image/png": "[encoded data removed]"
          },
          "metadata": {
            "needs_background": "light"
          }
        }
      ]
    }
  ]
}